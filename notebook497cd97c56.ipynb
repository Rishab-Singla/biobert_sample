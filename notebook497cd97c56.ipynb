{
 "cells": [
  {
   "cell_type": "code",
   "execution_count": 1,
   "id": "1e31e3e0",
   "metadata": {
    "_cell_guid": "b1076dfc-b9ad-4769-8c92-a6c4dae69d19",
    "_uuid": "8f2839f25d086af736a60e9eeb907d3b93b6e0e5",
    "execution": {
     "iopub.execute_input": "2022-08-30T09:06:42.975891Z",
     "iopub.status.busy": "2022-08-30T09:06:42.974781Z",
     "iopub.status.idle": "2022-08-30T09:06:43.161967Z",
     "shell.execute_reply": "2022-08-30T09:06:43.160447Z"
    },
    "papermill": {
     "duration": 0.202076,
     "end_time": "2022-08-30T09:06:43.168525",
     "exception": false,
     "start_time": "2022-08-30T09:06:42.966449",
     "status": "completed"
    },
    "tags": []
   },
   "outputs": [
    {
     "name": "stdout",
     "output_type": "stream",
     "text": [
      "/kaggle/input/biobert-datasets/datasets/NER/NCBI-disease/devel.tsv\n",
      "/kaggle/input/biobert-datasets/datasets/NER/NCBI-disease/test.tsv\n",
      "/kaggle/input/biobert-datasets/datasets/NER/NCBI-disease/train.tsv\n",
      "/kaggle/input/biobert-datasets/datasets/NER/NCBI-disease/train_dev.tsv\n",
      "/kaggle/input/biobert-datasets/datasets/NER/BC5CDR-disease/devel.tsv\n",
      "/kaggle/input/biobert-datasets/datasets/NER/BC5CDR-disease/test.tsv\n",
      "/kaggle/input/biobert-datasets/datasets/NER/BC5CDR-disease/train.tsv\n",
      "/kaggle/input/biobert-datasets/datasets/NER/BC5CDR-disease/train_dev.tsv\n",
      "/kaggle/input/biobert-datasets/datasets/NER/s800/devel.tsv\n",
      "/kaggle/input/biobert-datasets/datasets/NER/s800/test.tsv\n",
      "/kaggle/input/biobert-datasets/datasets/NER/s800/train.tsv\n",
      "/kaggle/input/biobert-datasets/datasets/NER/s800/train_dev.tsv\n",
      "/kaggle/input/biobert-datasets/datasets/NER/linnaeus/devel.tsv\n",
      "/kaggle/input/biobert-datasets/datasets/NER/linnaeus/test.tsv\n",
      "/kaggle/input/biobert-datasets/datasets/NER/linnaeus/train.tsv\n",
      "/kaggle/input/biobert-datasets/datasets/NER/linnaeus/train_dev.tsv\n",
      "/kaggle/input/biobert-datasets/datasets/NER/BC2GM/devel.tsv\n",
      "/kaggle/input/biobert-datasets/datasets/NER/BC2GM/test.tsv\n",
      "/kaggle/input/biobert-datasets/datasets/NER/BC2GM/train.tsv\n",
      "/kaggle/input/biobert-datasets/datasets/NER/BC2GM/train_dev.tsv\n",
      "/kaggle/input/biobert-datasets/datasets/NER/JNLPBA/devel.tsv\n",
      "/kaggle/input/biobert-datasets/datasets/NER/JNLPBA/test.tsv\n",
      "/kaggle/input/biobert-datasets/datasets/NER/JNLPBA/train.tsv\n",
      "/kaggle/input/biobert-datasets/datasets/NER/JNLPBA/train_dev.tsv\n",
      "/kaggle/input/biobert-datasets/datasets/NER/BC5CDR-chem/devel.tsv\n",
      "/kaggle/input/biobert-datasets/datasets/NER/BC5CDR-chem/test.tsv\n",
      "/kaggle/input/biobert-datasets/datasets/NER/BC5CDR-chem/train.tsv\n",
      "/kaggle/input/biobert-datasets/datasets/NER/BC5CDR-chem/train_dev.tsv\n",
      "/kaggle/input/biobert-datasets/datasets/NER/BC4CHEMD/devel.tsv\n",
      "/kaggle/input/biobert-datasets/datasets/NER/BC4CHEMD/test.tsv\n",
      "/kaggle/input/biobert-datasets/datasets/NER/BC4CHEMD/train.tsv\n",
      "/kaggle/input/biobert-datasets/datasets/NER/BC4CHEMD/train_dev.tsv\n",
      "/kaggle/input/biobert-datasets/datasets/RE/GAD/7/test.tsv\n",
      "/kaggle/input/biobert-datasets/datasets/RE/GAD/7/dev.tsv\n",
      "/kaggle/input/biobert-datasets/datasets/RE/GAD/7/train.tsv\n",
      "/kaggle/input/biobert-datasets/datasets/RE/GAD/2/test.tsv\n",
      "/kaggle/input/biobert-datasets/datasets/RE/GAD/2/dev.tsv\n",
      "/kaggle/input/biobert-datasets/datasets/RE/GAD/2/train.tsv\n",
      "/kaggle/input/biobert-datasets/datasets/RE/GAD/10/test.tsv\n",
      "/kaggle/input/biobert-datasets/datasets/RE/GAD/10/dev.tsv\n",
      "/kaggle/input/biobert-datasets/datasets/RE/GAD/10/train.tsv\n",
      "/kaggle/input/biobert-datasets/datasets/RE/GAD/5/test.tsv\n",
      "/kaggle/input/biobert-datasets/datasets/RE/GAD/5/dev.tsv\n",
      "/kaggle/input/biobert-datasets/datasets/RE/GAD/5/train.tsv\n",
      "/kaggle/input/biobert-datasets/datasets/RE/GAD/8/test.tsv\n",
      "/kaggle/input/biobert-datasets/datasets/RE/GAD/8/dev.tsv\n",
      "/kaggle/input/biobert-datasets/datasets/RE/GAD/8/train.tsv\n",
      "/kaggle/input/biobert-datasets/datasets/RE/GAD/3/test.tsv\n",
      "/kaggle/input/biobert-datasets/datasets/RE/GAD/3/dev.tsv\n",
      "/kaggle/input/biobert-datasets/datasets/RE/GAD/3/train.tsv\n",
      "/kaggle/input/biobert-datasets/datasets/RE/GAD/1/test.tsv\n",
      "/kaggle/input/biobert-datasets/datasets/RE/GAD/1/dev.tsv\n",
      "/kaggle/input/biobert-datasets/datasets/RE/GAD/1/train.tsv\n",
      "/kaggle/input/biobert-datasets/datasets/RE/GAD/4/test.tsv\n",
      "/kaggle/input/biobert-datasets/datasets/RE/GAD/4/dev.tsv\n",
      "/kaggle/input/biobert-datasets/datasets/RE/GAD/4/train.tsv\n",
      "/kaggle/input/biobert-datasets/datasets/RE/GAD/9/test.tsv\n",
      "/kaggle/input/biobert-datasets/datasets/RE/GAD/9/dev.tsv\n",
      "/kaggle/input/biobert-datasets/datasets/RE/GAD/9/train.tsv\n",
      "/kaggle/input/biobert-datasets/datasets/RE/GAD/6/test.tsv\n",
      "/kaggle/input/biobert-datasets/datasets/RE/GAD/6/dev.tsv\n",
      "/kaggle/input/biobert-datasets/datasets/RE/GAD/6/train.tsv\n",
      "/kaggle/input/biobert-datasets/datasets/RE/euadr/7/test.tsv\n",
      "/kaggle/input/biobert-datasets/datasets/RE/euadr/7/dev.tsv\n",
      "/kaggle/input/biobert-datasets/datasets/RE/euadr/7/train.tsv\n",
      "/kaggle/input/biobert-datasets/datasets/RE/euadr/2/test.tsv\n",
      "/kaggle/input/biobert-datasets/datasets/RE/euadr/2/dev.tsv\n",
      "/kaggle/input/biobert-datasets/datasets/RE/euadr/2/train.tsv\n",
      "/kaggle/input/biobert-datasets/datasets/RE/euadr/10/test.tsv\n",
      "/kaggle/input/biobert-datasets/datasets/RE/euadr/10/dev.tsv\n",
      "/kaggle/input/biobert-datasets/datasets/RE/euadr/10/train.tsv\n",
      "/kaggle/input/biobert-datasets/datasets/RE/euadr/5/test.tsv\n",
      "/kaggle/input/biobert-datasets/datasets/RE/euadr/5/dev.tsv\n",
      "/kaggle/input/biobert-datasets/datasets/RE/euadr/5/train.tsv\n",
      "/kaggle/input/biobert-datasets/datasets/RE/euadr/8/test.tsv\n",
      "/kaggle/input/biobert-datasets/datasets/RE/euadr/8/dev.tsv\n",
      "/kaggle/input/biobert-datasets/datasets/RE/euadr/8/train.tsv\n",
      "/kaggle/input/biobert-datasets/datasets/RE/euadr/3/test.tsv\n",
      "/kaggle/input/biobert-datasets/datasets/RE/euadr/3/dev.tsv\n",
      "/kaggle/input/biobert-datasets/datasets/RE/euadr/3/train.tsv\n",
      "/kaggle/input/biobert-datasets/datasets/RE/euadr/1/test.tsv\n",
      "/kaggle/input/biobert-datasets/datasets/RE/euadr/1/dev.tsv\n",
      "/kaggle/input/biobert-datasets/datasets/RE/euadr/1/train.tsv\n",
      "/kaggle/input/biobert-datasets/datasets/RE/euadr/4/test.tsv\n",
      "/kaggle/input/biobert-datasets/datasets/RE/euadr/4/dev.tsv\n",
      "/kaggle/input/biobert-datasets/datasets/RE/euadr/4/train.tsv\n",
      "/kaggle/input/biobert-datasets/datasets/RE/euadr/9/test.tsv\n",
      "/kaggle/input/biobert-datasets/datasets/RE/euadr/9/dev.tsv\n",
      "/kaggle/input/biobert-datasets/datasets/RE/euadr/9/train.tsv\n",
      "/kaggle/input/biobert-datasets/datasets/RE/euadr/6/test.tsv\n",
      "/kaggle/input/biobert-datasets/datasets/RE/euadr/6/dev.tsv\n",
      "/kaggle/input/biobert-datasets/datasets/RE/euadr/6/train.tsv\n",
      "/kaggle/input/biobert-datasets/datasets/QA/BioASQ/4B3_golden.json\n",
      "/kaggle/input/biobert-datasets/datasets/QA/BioASQ/6B5_golden.json\n",
      "/kaggle/input/biobert-datasets/datasets/QA/BioASQ/7B_golden.json\n",
      "/kaggle/input/biobert-datasets/datasets/QA/BioASQ/BioASQ-test-factoid-6b-4.json\n",
      "/kaggle/input/biobert-datasets/datasets/QA/BioASQ/6B4_golden.json\n",
      "/kaggle/input/biobert-datasets/datasets/QA/BioASQ/BioASQ-test-factoid-5b-3.json\n",
      "/kaggle/input/biobert-datasets/datasets/QA/BioASQ/BioASQ-test-factoid-4b-2.json\n",
      "/kaggle/input/biobert-datasets/datasets/QA/BioASQ/BioASQ-test-factoid-6b-5.json\n",
      "/kaggle/input/biobert-datasets/datasets/QA/BioASQ/BioASQ-test-factoid-6b-1.json\n",
      "/kaggle/input/biobert-datasets/datasets/QA/BioASQ/4B4_golden.json\n",
      "/kaggle/input/biobert-datasets/datasets/QA/BioASQ/BioASQ-train-factoid-7b.json\n",
      "/kaggle/input/biobert-datasets/datasets/QA/BioASQ/BioASQ-train-factoid-5b.json\n",
      "/kaggle/input/biobert-datasets/datasets/QA/BioASQ/BioASQ-test-factoid-4b-5.json\n",
      "/kaggle/input/biobert-datasets/datasets/QA/BioASQ/BioASQ-test-factoid-6b-3.json\n",
      "/kaggle/input/biobert-datasets/datasets/QA/BioASQ/BioASQ-test-factoid-4b-4.json\n",
      "/kaggle/input/biobert-datasets/datasets/QA/BioASQ/6B3_golden.json\n",
      "/kaggle/input/biobert-datasets/datasets/QA/BioASQ/BioASQ-test-factoid-7b.json\n",
      "/kaggle/input/biobert-datasets/datasets/QA/BioASQ/5B1_golden.json\n",
      "/kaggle/input/biobert-datasets/datasets/QA/BioASQ/SHA1.txt\n",
      "/kaggle/input/biobert-datasets/datasets/QA/BioASQ/BioASQ-train-factoid-4b.json\n",
      "/kaggle/input/biobert-datasets/datasets/QA/BioASQ/6B1_golden.json\n",
      "/kaggle/input/biobert-datasets/datasets/QA/BioASQ/BioASQ-train-yesno-7b.json\n",
      "/kaggle/input/biobert-datasets/datasets/QA/BioASQ/6B2_golden.json\n",
      "/kaggle/input/biobert-datasets/datasets/QA/BioASQ/BioASQ-test-factoid-5b-5.json\n",
      "/kaggle/input/biobert-datasets/datasets/QA/BioASQ/5B5_golden.json\n",
      "/kaggle/input/biobert-datasets/datasets/QA/BioASQ/5B3_golden.json\n",
      "/kaggle/input/biobert-datasets/datasets/QA/BioASQ/5B2_golden.json\n",
      "/kaggle/input/biobert-datasets/datasets/QA/BioASQ/BioASQ-train-factoid-6b.json\n",
      "/kaggle/input/biobert-datasets/datasets/QA/BioASQ/BioASQ-test-factoid-5b-4.json\n",
      "/kaggle/input/biobert-datasets/datasets/QA/BioASQ/4B2_golden.json\n",
      "/kaggle/input/biobert-datasets/datasets/QA/BioASQ/5B4_golden.json\n",
      "/kaggle/input/biobert-datasets/datasets/QA/BioASQ/BioASQ-test-yesno-7b.json\n",
      "/kaggle/input/biobert-datasets/datasets/QA/BioASQ/BioASQ-test-factoid-4b-3.json\n",
      "/kaggle/input/biobert-datasets/datasets/QA/BioASQ/BioASQ-test-factoid-6b-2.json\n",
      "/kaggle/input/biobert-datasets/datasets/QA/BioASQ/4B5_golden.json\n",
      "/kaggle/input/biobert-datasets/datasets/QA/BioASQ/4B1_golden.json\n",
      "/kaggle/input/biobert-datasets/datasets/QA/BioASQ/BioASQ-test-factoid-4b-1.json\n",
      "/kaggle/input/biobert-datasets/datasets/QA/BioASQ/BioASQ-test-factoid-5b-1.json\n",
      "/kaggle/input/biobert-datasets/datasets/QA/BioASQ/BioASQ-test-factoid-5b-2.json\n"
     ]
    }
   ],
   "source": [
    "# This Python 3 environment comes with many helpful analytics libraries installed\n",
    "# It is defined by the kaggle/python Docker image: https://github.com/kaggle/docker-python\n",
    "# For example, here's several helpful packages to load\n",
    "\n",
    "import numpy as np # linear algebra\n",
    "import pandas as pd # data processing, CSV file I/O (e.g. pd.read_csv)\n",
    "\n",
    "# Input data files are available in the read-only \"../input/\" directory\n",
    "# For example, running this (by clicking run or pressing Shift+Enter) will list all files under the input directory\n",
    "\n",
    "import os\n",
    "for dirname, _, filenames in os.walk('/kaggle/input'):\n",
    "    for filename in filenames:\n",
    "        print(os.path.join(dirname, filename))\n",
    "\n",
    "# You can write up to 20GB to the current directory (/kaggle/working/) that gets preserved as output when you create a version using \"Save & Run All\" \n",
    "# You can also write temporary files to /kaggle/temp/, but they won't be saved outside of the current session"
   ]
  },
  {
   "cell_type": "code",
   "execution_count": 2,
   "id": "20f2257c",
   "metadata": {
    "execution": {
     "iopub.execute_input": "2022-08-30T09:06:43.180192Z",
     "iopub.status.busy": "2022-08-30T09:06:43.179840Z",
     "iopub.status.idle": "2022-08-30T09:06:46.486416Z",
     "shell.execute_reply": "2022-08-30T09:06:46.484756Z"
    },
    "papermill": {
     "duration": 3.31623,
     "end_time": "2022-08-30T09:06:46.489777",
     "exception": false,
     "start_time": "2022-08-30T09:06:43.173547",
     "status": "completed"
    },
    "tags": []
   },
   "outputs": [
    {
     "name": "stdout",
     "output_type": "stream",
     "text": [
      "\u001b[31mERROR: Could not open requirements file: [Errno 2] No such file or directory: 'biobert_sample/requirements.txt'\u001b[0m\u001b[31m\r\n",
      "\u001b[0m"
     ]
    }
   ],
   "source": [
    "# !git clone https://github.com/Rishab-Singla/biobert_sample.git\n",
    "# !cd biobert_sample;\n",
    "!pip install -r biobert_sample/requirements.txt"
   ]
  },
  {
   "cell_type": "code",
   "execution_count": 3,
   "id": "5e458093",
   "metadata": {
    "execution": {
     "iopub.execute_input": "2022-08-30T09:06:46.501741Z",
     "iopub.status.busy": "2022-08-30T09:06:46.501291Z",
     "iopub.status.idle": "2022-08-30T09:06:46.507488Z",
     "shell.execute_reply": "2022-08-30T09:06:46.505945Z"
    },
    "papermill": {
     "duration": 0.015746,
     "end_time": "2022-08-30T09:06:46.510839",
     "exception": false,
     "start_time": "2022-08-30T09:06:46.495093",
     "status": "completed"
    },
    "tags": []
   },
   "outputs": [],
   "source": [
    "# !pip list | grep tensorflow\n",
    "# !pip uninstall tensorflow -y"
   ]
  },
  {
   "cell_type": "code",
   "execution_count": 4,
   "id": "c0857e1b",
   "metadata": {
    "execution": {
     "iopub.execute_input": "2022-08-30T09:06:46.521759Z",
     "iopub.status.busy": "2022-08-30T09:06:46.521334Z",
     "iopub.status.idle": "2022-08-30T09:06:47.839508Z",
     "shell.execute_reply": "2022-08-30T09:06:47.838046Z"
    },
    "papermill": {
     "duration": 1.327105,
     "end_time": "2022-08-30T09:06:47.842581",
     "exception": false,
     "start_time": "2022-08-30T09:06:46.515476",
     "status": "completed"
    },
    "tags": []
   },
   "outputs": [
    {
     "name": "stdout",
     "output_type": "stream",
     "text": [
      "/kaggle/working\r\n"
     ]
    }
   ],
   "source": [
    "# !cd ../input/biobert-datasets\n",
    "!pwd\n"
   ]
  },
  {
   "cell_type": "code",
   "execution_count": 5,
   "id": "fc9016c5",
   "metadata": {
    "execution": {
     "iopub.execute_input": "2022-08-30T09:06:47.854790Z",
     "iopub.status.busy": "2022-08-30T09:06:47.854358Z",
     "iopub.status.idle": "2022-08-30T09:06:47.860715Z",
     "shell.execute_reply": "2022-08-30T09:06:47.859171Z"
    },
    "papermill": {
     "duration": 0.015313,
     "end_time": "2022-08-30T09:06:47.863357",
     "exception": false,
     "start_time": "2022-08-30T09:06:47.848044",
     "status": "completed"
    },
    "tags": []
   },
   "outputs": [],
   "source": [
    "# ! ./biobert_sample/download.sh"
   ]
  },
  {
   "cell_type": "code",
   "execution_count": 6,
   "id": "8d9177fe",
   "metadata": {
    "execution": {
     "iopub.execute_input": "2022-08-30T09:06:47.876357Z",
     "iopub.status.busy": "2022-08-30T09:06:47.874607Z",
     "iopub.status.idle": "2022-08-30T09:07:19.489174Z",
     "shell.execute_reply": "2022-08-30T09:07:19.487517Z"
    },
    "papermill": {
     "duration": 31.624331,
     "end_time": "2022-08-30T09:07:19.492780",
     "exception": false,
     "start_time": "2022-08-30T09:06:47.868449",
     "status": "completed"
    },
    "tags": []
   },
   "outputs": [
    {
     "name": "stdout",
     "output_type": "stream",
     "text": [
      "Collecting gdown\r\n",
      "  Downloading gdown-4.5.1.tar.gz (14 kB)\r\n",
      "  Installing build dependencies ... \u001b[?25l-\b \b\\\b \b|\b \b/\b \b-\b \b\\\b \bdone\r\n",
      "\u001b[?25h  Getting requirements to build wheel ... \u001b[?25l-\b \bdone\r\n",
      "\u001b[?25h  Preparing metadata (pyproject.toml) ... \u001b[?25l-\b \bdone\r\n",
      "\u001b[?25hRequirement already satisfied: requests[socks] in /opt/conda/lib/python3.7/site-packages (from gdown) (2.28.1)\r\n",
      "Requirement already satisfied: tqdm in /opt/conda/lib/python3.7/site-packages (from gdown) (4.64.0)\r\n",
      "Requirement already satisfied: filelock in /opt/conda/lib/python3.7/site-packages (from gdown) (3.7.1)\r\n",
      "Requirement already satisfied: beautifulsoup4 in /opt/conda/lib/python3.7/site-packages (from gdown) (4.11.1)\r\n",
      "Requirement already satisfied: six in /opt/conda/lib/python3.7/site-packages (from gdown) (1.15.0)\r\n",
      "Requirement already satisfied: soupsieve>1.2 in /opt/conda/lib/python3.7/site-packages (from beautifulsoup4->gdown) (2.3.1)\r\n",
      "Requirement already satisfied: idna<4,>=2.5 in /opt/conda/lib/python3.7/site-packages (from requests[socks]->gdown) (3.3)\r\n",
      "Requirement already satisfied: charset-normalizer<3,>=2 in /opt/conda/lib/python3.7/site-packages (from requests[socks]->gdown) (2.1.0)\r\n",
      "Requirement already satisfied: urllib3<1.27,>=1.21.1 in /opt/conda/lib/python3.7/site-packages (from requests[socks]->gdown) (1.26.12)\r\n",
      "Requirement already satisfied: certifi>=2017.4.17 in /opt/conda/lib/python3.7/site-packages (from requests[socks]->gdown) (2022.6.15)\r\n",
      "Requirement already satisfied: PySocks!=1.5.7,>=1.5.6 in /opt/conda/lib/python3.7/site-packages (from requests[socks]->gdown) (1.7.1)\r\n",
      "Building wheels for collected packages: gdown\r\n",
      "  Building wheel for gdown (pyproject.toml) ... \u001b[?25l-\b \bdone\r\n",
      "\u001b[?25h  Created wheel for gdown: filename=gdown-4.5.1-py3-none-any.whl size=14933 sha256=41d2fca908924138dbc9faaa2a1ae818fcc6edcde23271904665f011b0995490\r\n",
      "  Stored in directory: /root/.cache/pip/wheels/3d/ec/b0/a96d1d126183f98570a785e6bf8789fca559853a9260e928e1\r\n",
      "Successfully built gdown\r\n",
      "Installing collected packages: gdown\r\n",
      "Successfully installed gdown-4.5.1\r\n",
      "\u001b[33mWARNING: Running pip as the 'root' user can result in broken permissions and conflicting behaviour with the system package manager. It is recommended to use a virtual environment instead: https://pip.pypa.io/warnings/venv\u001b[0m\u001b[33m\r\n",
      "\u001b[0m"
     ]
    }
   ],
   "source": [
    "!pip install gdown"
   ]
  },
  {
   "cell_type": "code",
   "execution_count": 7,
   "id": "696d2fd6",
   "metadata": {
    "execution": {
     "iopub.execute_input": "2022-08-30T09:07:19.507483Z",
     "iopub.status.busy": "2022-08-30T09:07:19.507124Z",
     "iopub.status.idle": "2022-08-30T09:07:19.513079Z",
     "shell.execute_reply": "2022-08-30T09:07:19.511763Z"
    },
    "papermill": {
     "duration": 0.016931,
     "end_time": "2022-08-30T09:07:19.516152",
     "exception": false,
     "start_time": "2022-08-30T09:07:19.499221",
     "status": "completed"
    },
    "tags": []
   },
   "outputs": [],
   "source": [
    "# import gdown\n",
    "\n",
    "# url = 'https://drive.google.com/file/d/1bm1XziUVT1LSYmAAaGRwZvA1oB5oc6Pj/view'\n",
    "\n",
    "# output = 'biobert_v1.1_pubmed'\n",
    "\n",
    "# gdown.download(url, output, quiet=False)\n",
    "\n",
    "# !gdown --id 1bm1XziUVT1LSYmAAaGRwZvA1oB5oc6Pj"
   ]
  },
  {
   "cell_type": "code",
   "execution_count": 8,
   "id": "bd91ecb8",
   "metadata": {
    "execution": {
     "iopub.execute_input": "2022-08-30T09:07:19.529549Z",
     "iopub.status.busy": "2022-08-30T09:07:19.529250Z",
     "iopub.status.idle": "2022-08-30T09:08:41.504289Z",
     "shell.execute_reply": "2022-08-30T09:08:41.502639Z"
    },
    "papermill": {
     "duration": 81.985191,
     "end_time": "2022-08-30T09:08:41.507517",
     "exception": false,
     "start_time": "2022-08-30T09:07:19.522326",
     "status": "completed"
    },
    "tags": []
   },
   "outputs": [
    {
     "name": "stdout",
     "output_type": "stream",
     "text": [
      "Collecting package metadata (current_repodata.json): - \b\b\\ \b\b| \b\b/ \b\b- \b\b\\ \b\b| \b\b/ \b\b- \b\b\\ \b\b| \b\b/ \b\b- \b\b\\ \b\b| \b\b/ \b\b- \b\b\\ \b\b| \b\b/ \b\b- \b\b\\ \b\b| \b\b/ \b\b- \b\b\\ \b\b| \b\b/ \b\b- \b\b\\ \b\b| \b\b/ \b\b- \b\b\\ \b\b| \b\b/ \b\b- \b\b\\ \b\b| \b\b/ \b\b- \b\b\\ \b\b| \b\b/ \b\b- \b\b\\ \b\b| \b\b/ \b\b- \b\b\\ \b\b| \b\b/ \b\b- \b\b\\ \b\b| \b\b/ \b\b- \b\b\\ \b\b| \b\b/ \b\b- \b\b\\ \b\b| \b\b/ \b\b- \b\b\\ \b\b| \b\b/ \b\b- \b\b\\ \b\b| \b\b/ \b\b- \b\b\\ \b\b| \b\b/ \b\b- \b\b\\ \b\b| \b\b/ \b\b- \b\b\\ \b\b| \b\b/ \b\b- \b\b\\ \b\b| \b\b/ \b\b- \b\b\\ \b\b| \b\b/ \b\b- \b\b\\ \b\b| \b\b/ \b\b- \b\b\\ \b\b| \b\b/ \b\b- \b\b\\ \b\b| \b\b/ \b\b- \b\b\\ \b\b| \b\b/ \b\b- \b\b\\ \b\b| \b\b/ \b\b- \b\b\\ \b\b| \b\b/ \b\b- \b\b\\ \b\b| \b\b/ \b\b- \b\b\\ \b\b| \b\b/ \b\b- \b\b\\ \b\b| \b\b/ \b\b- \b\b\\ \b\b| \b\b/ \b\b- \b\b\\ \b\b| \b\b/ \b\b- \b\b\\ \b\b| \b\b/ \b\b- \b\b\\ \b\b| \b\b/ \b\b- \b\b\\ \b\b| \b\b/ \b\b- \b\b\\ \b\b| \b\b/ \b\b- \b\b\\ \b\b| \b\b/ \b\b- \b\b\\ \b\b| \b\b/ \b\b- \b\b\\ \b\b| \b\b/ \b\b- \b\b\\ \b\b| \b\b/ \b\b- \b\b\\ \b\b| \b\b/ \b\b- \b\b\\ \b\b| \b\b/ \b\b- \b\b\\ \b\b| \b\b/ \b\b- \b\b\\ \b\b| \b\b/ \b\b- \b\b\\ \b\b| \b\b/ \b\b- \b\b\\ \b\b| \b\b/ \b\b- \b\b\\ \b\b| \b\b/ \b\b- \b\b\\ \b\b| \b\b/ \b\b- \b\b\\ \b\b| \b\b/ \b\b- \b\b\\ \b\b| \b\b/ \b\b- \b\b\\ \b\b| \b\b/ \b\b- \b\b\\ \b\b| \b\b/ \b\b- \b\b\\ \b\b| \b\b/ \b\b- \b\b\\ \b\b| \b\b/ \b\b- \b\b\\ \b\b| \b\b/ \b\b- \b\b\\ \b\b| \b\b/ \b\b- \b\b\\ \b\b| \b\b/ \b\b- \b\b\\ \b\b| \b\b/ \b\b- \b\b\\ \b\b| \b\b/ \b\b- \b\b\\ \b\b| \b\b/ \b\b- \b\b\\ \b\b| \b\b/ \b\b- \b\b\\ \b\b| \b\b/ \b\b- \b\b\\ \b\b| \b\b/ \b\b- \b\b\\ \b\b| \b\b/ \b\b- \b\b\\ \b\b| \b\b/ \b\b- \b\b\\ \b\bdone\r\n",
      "Solving environment: / \b\b- \b\b\\ \b\b| \b\b/ \b\b- \b\b\\ \b\b| \b\b/ \b\b- \b\b\\ \b\b| \b\b/ \b\b- \b\b\\ \b\b| \b\b/ \b\b- \b\b\\ \b\b| \b\b/ \b\b- \b\b\\ \b\b| \b\b/ \b\b- \b\b\\ \b\b| \b\b/ \b\b- \b\b\\ \b\b| \b\b/ \b\b- \b\b\\ \b\b| \b\b/ \b\b- \b\b\\ \b\b| \b\b/ \b\b- \b\b\\ \b\b| \b\b/ \b\b- \b\b\\ \b\b| \b\b/ \b\b- \b\b\\ \b\b| \b\b/ \b\b- \b\b\\ \b\b| \b\b/ \b\b- \b\b\\ \b\b| \b\b/ \b\b- \b\b\\ \b\b| \b\b/ \b\b- \b\b\\ \b\b| \b\b/ \b\b- \b\b\\ \b\b| \b\b/ \b\b- \b\b\\ \b\b| \b\b/ \b\b- \b\b\\ \b\b| \b\b/ \b\b- \b\b\\ \b\b| \b\b/ \b\b- \b\b\\ \b\b| \b\b/ \b\b- \b\b\\ \b\b| \b\b/ \b\b- \b\b\\ \b\b| \b\b/ \b\b- \b\b\\ \b\b| \b\b/ \b\b- \b\b\\ \b\b| \b\b/ \b\b- \b\b\\ \b\b| \b\b/ \b\b- \b\b\\ \b\b| \b\b/ \b\b- \b\b\\ \b\b| \b\b/ \b\b- \b\b\\ \b\b| \b\b/ \b\b- \b\b\\ \b\b| \b\b/ \b\b- \b\b\\ \b\b| \b\b/ \b\b- \b\b\\ \b\b| \b\b/ \b\b- \b\b\\ \b\b| \b\b/ \b\b- \b\b\\ \b\b| \b\b/ \b\b- \b\b\\ \b\b| \b\b/ \b\b- \b\b\\ \b\b| \b\b/ \b\b- \b\b\\ \b\b| \b\b/ \b\b- \b\b\\ \b\b| \b\b/ \b\b- \b\b\\ \b\b| \b\b/ \b\b- \b\bdone\r\n",
      "\r\n",
      "## Package Plan ##\r\n",
      "\r\n",
      "  environment location: /opt/conda\r\n",
      "\r\n",
      "  added / updated specs:\r\n",
      "    - gdown\r\n",
      "\r\n",
      "\r\n",
      "The following packages will be downloaded:\r\n",
      "\r\n",
      "    package                    |            build\r\n",
      "    ---------------------------|-----------------\r\n",
      "    certifi-2022.6.15          |     pyhd8ed1ab_1         154 KB  conda-forge\r\n",
      "    filelock-3.8.0             |     pyhd8ed1ab_0          13 KB  conda-forge\r\n",
      "    gdown-4.5.1                |     pyhd8ed1ab_0          17 KB  conda-forge\r\n",
      "    ------------------------------------------------------------\r\n",
      "                                           Total:         183 KB\r\n",
      "\r\n",
      "The following NEW packages will be INSTALLED:\r\n",
      "\r\n",
      "  filelock           conda-forge/noarch::filelock-3.8.0-pyhd8ed1ab_0\r\n",
      "  gdown              conda-forge/noarch::gdown-4.5.1-pyhd8ed1ab_0\r\n",
      "\r\n",
      "The following packages will be UPDATED:\r\n",
      "\r\n",
      "  certifi            conda-forge/linux-64::certifi-2022.6.~ --> conda-forge/noarch::certifi-2022.6.15-pyhd8ed1ab_1\r\n",
      "\r\n",
      "\r\n",
      "\r\n",
      "Downloading and Extracting Packages\r\n",
      "gdown-4.5.1          | 17 KB     | ##################################### | 100% \r\n",
      "filelock-3.8.0       | 13 KB     | ##################################### | 100% \r\n",
      "certifi-2022.6.15    | 154 KB    | ##################################### | 100% \r\n",
      "Preparing transaction: | \b\bdone\r\n",
      "Verifying transaction: - \b\bdone\r\n",
      "Executing transaction: | \b\b/ \b\b- \b\b\\ \b\b| \b\b/ \b\b- \b\b\\ \b\b| \b\b/ \b\b- \b\b\\ \b\b| \b\b/ \b\bdone\r\n",
      "Retrieving notices: ...working... done\r\n"
     ]
    }
   ],
   "source": [
    "! conda install -y gdown"
   ]
  },
  {
   "cell_type": "code",
   "execution_count": 9,
   "id": "6db98003",
   "metadata": {
    "execution": {
     "iopub.execute_input": "2022-08-30T09:08:41.575304Z",
     "iopub.status.busy": "2022-08-30T09:08:41.573811Z",
     "iopub.status.idle": "2022-08-30T09:08:52.032307Z",
     "shell.execute_reply": "2022-08-30T09:08:52.030721Z"
    },
    "papermill": {
     "duration": 10.495381,
     "end_time": "2022-08-30T09:08:52.035362",
     "exception": false,
     "start_time": "2022-08-30T09:08:41.539981",
     "status": "completed"
    },
    "tags": []
   },
   "outputs": [
    {
     "name": "stdout",
     "output_type": "stream",
     "text": [
      "/opt/conda/lib/python3.7/site-packages/gdown/cli.py:131: FutureWarning: Option `--id` was deprecated in version 4.3.1 and will be removed in 5.0. You don't need to pass it anymore to use a file ID.\r\n",
      "  category=FutureWarning,\r\n",
      "Downloading...\r\n",
      "From: https://drive.google.com/uc?id=1bm1XziUVT1LSYmAAaGRwZvA1oB5oc6Pj\r\n",
      "To: /kaggle/working/biobert_v1.1_pubmed.tar.gz\r\n",
      "100%|████████████████████████████████████████| 401M/401M [00:05<00:00, 68.8MB/s]\r\n"
     ]
    }
   ],
   "source": [
    "!gdown --id 1bm1XziUVT1LSYmAAaGRwZvA1oB5oc6Pj"
   ]
  },
  {
   "cell_type": "code",
   "execution_count": 10,
   "id": "74b34a4b",
   "metadata": {
    "execution": {
     "iopub.execute_input": "2022-08-30T09:08:52.108187Z",
     "iopub.status.busy": "2022-08-30T09:08:52.106737Z",
     "iopub.status.idle": "2022-08-30T09:09:00.507426Z",
     "shell.execute_reply": "2022-08-30T09:09:00.505778Z"
    },
    "papermill": {
     "duration": 8.44044,
     "end_time": "2022-08-30T09:09:00.510634",
     "exception": false,
     "start_time": "2022-08-30T09:08:52.070194",
     "status": "completed"
    },
    "tags": []
   },
   "outputs": [
    {
     "name": "stdout",
     "output_type": "stream",
     "text": [
      "biobert_v1.1_pubmed/\r\n",
      "biobert_v1.1_pubmed/model.ckpt-1000000.data-00000-of-00001\r\n",
      "biobert_v1.1_pubmed/model.ckpt-1000000.meta\r\n",
      "biobert_v1.1_pubmed/bert_config.json\r\n",
      "biobert_v1.1_pubmed/vocab.txt\r\n",
      "biobert_v1.1_pubmed/model.ckpt-1000000.index\r\n"
     ]
    }
   ],
   "source": [
    "!tar -xzvf \"/kaggle/working/biobert_v1.1_pubmed.tar.gz\" -C \"/kaggle/working\""
   ]
  },
  {
   "cell_type": "code",
   "execution_count": 11,
   "id": "7d00ce99",
   "metadata": {
    "execution": {
     "iopub.execute_input": "2022-08-30T09:09:00.659182Z",
     "iopub.status.busy": "2022-08-30T09:09:00.657992Z",
     "iopub.status.idle": "2022-08-30T09:09:00.668252Z",
     "shell.execute_reply": "2022-08-30T09:09:00.666948Z"
    },
    "papermill": {
     "duration": 0.125666,
     "end_time": "2022-08-30T09:09:00.671827",
     "exception": false,
     "start_time": "2022-08-30T09:09:00.546161",
     "status": "completed"
    },
    "tags": []
   },
   "outputs": [
    {
     "name": "stdout",
     "output_type": "stream",
     "text": [
      "env: BIOBERT_DIR=./biobert_v1.1_pubmed\n",
      "env: NER_DIR=../input/biobert-datasets/datasets/NER/NCBI-disease\n",
      "env: OUTPUT_DIR=./ner_outputs\n"
     ]
    }
   ],
   "source": [
    "%env BIOBERT_DIR=./biobert_v1.1_pubmed\n",
    "# !echo $BIOBERT_DIR\n",
    "# biobert/biobert_v1.1_pubmed\n",
    "# ! export NER_DIR=./datasets/NER/NCBI-disease\n",
    "# %env NER_DIR=./datasets/NER/NCBI-disease\n",
    "%env NER_DIR=../input/biobert-datasets/datasets/NER/NCBI-disease\n",
    "# ! export OUTPUT_DIR=./ner_outputs\n",
    "%env OUTPUT_DIR=./ner_outputs"
   ]
  },
  {
   "cell_type": "code",
   "execution_count": 12,
   "id": "e5b76828",
   "metadata": {
    "execution": {
     "iopub.execute_input": "2022-08-30T09:09:00.741347Z",
     "iopub.status.busy": "2022-08-30T09:09:00.740967Z",
     "iopub.status.idle": "2022-08-30T09:09:02.192438Z",
     "shell.execute_reply": "2022-08-30T09:09:02.190655Z"
    },
    "papermill": {
     "duration": 1.491778,
     "end_time": "2022-08-30T09:09:02.197249",
     "exception": false,
     "start_time": "2022-08-30T09:09:00.705471",
     "status": "completed"
    },
    "tags": []
   },
   "outputs": [
    {
     "name": "stdout",
     "output_type": "stream",
     "text": [
      "python: can't open file './biobert_sample/run_ner.py': [Errno 2] No such file or directory\r\n"
     ]
    }
   ],
   "source": [
    "# ! mkdir -p $OUTPUT_DIR\n",
    "# !pip install tensorflow-gpu==1.15.0\n",
    "! python ./biobert_sample/run_ner.py --do_train=true --do_eval=true --vocab_file=$BIOBERT_DIR/vocab.txt --bert_config_file=$BIOBERT_DIR/bert_config.json --init_checkpoint=$BIOBERT_DIR/model.ckpt-1000000 --num_train_epochs=2.0 --data_dir=$NER_DIR --output_dir=$OUTPUT_DIR"
   ]
  },
  {
   "cell_type": "code",
   "execution_count": 13,
   "id": "ae1a8024",
   "metadata": {
    "execution": {
     "iopub.execute_input": "2022-08-30T09:09:03.582317Z",
     "iopub.status.busy": "2022-08-30T09:09:03.581052Z",
     "iopub.status.idle": "2022-08-30T09:09:03.592421Z",
     "shell.execute_reply": "2022-08-30T09:09:03.590713Z"
    },
    "papermill": {
     "duration": 1.363215,
     "end_time": "2022-08-30T09:09:03.600701",
     "exception": false,
     "start_time": "2022-08-30T09:09:02.237486",
     "status": "completed"
    },
    "tags": []
   },
   "outputs": [],
   "source": [
    "# !pip uninstall tensorflow\n",
    "# !pip install tensorflow"
   ]
  },
  {
   "cell_type": "code",
   "execution_count": 14,
   "id": "2db62874",
   "metadata": {
    "execution": {
     "iopub.execute_input": "2022-08-30T09:09:03.982035Z",
     "iopub.status.busy": "2022-08-30T09:09:03.981534Z",
     "iopub.status.idle": "2022-08-30T09:09:03.987535Z",
     "shell.execute_reply": "2022-08-30T09:09:03.986117Z"
    },
    "papermill": {
     "duration": 0.045833,
     "end_time": "2022-08-30T09:09:03.990459",
     "exception": false,
     "start_time": "2022-08-30T09:09:03.944626",
     "status": "completed"
    },
    "tags": []
   },
   "outputs": [],
   "source": [
    "# !pip list | grep tensorflow\n",
    "# !pip uninstall tensorflow -y"
   ]
  },
  {
   "cell_type": "code",
   "execution_count": 15,
   "id": "d8ef54e0",
   "metadata": {
    "execution": {
     "iopub.execute_input": "2022-08-30T09:09:04.063033Z",
     "iopub.status.busy": "2022-08-30T09:09:04.061902Z",
     "iopub.status.idle": "2022-08-30T09:09:05.818525Z",
     "shell.execute_reply": "2022-08-30T09:09:05.816918Z"
    },
    "papermill": {
     "duration": 1.796305,
     "end_time": "2022-08-30T09:09:05.821664",
     "exception": false,
     "start_time": "2022-08-30T09:09:04.025359",
     "status": "completed"
    },
    "tags": []
   },
   "outputs": [
    {
     "name": "stdout",
     "output_type": "stream",
     "text": [
      "python: can't open file './biobert_sample/run_ner.py': [Errno 2] No such file or directory\r\n"
     ]
    }
   ],
   "source": [
    "# !pip install tensorflow-gpu==1.15.0\n",
    "# !pip install numpy==1.19.5\n",
    "! python ./biobert_sample/run_ner.py --do_train=false --do_predict=true --do_eval=true --vocab_file=$BIOBERT_DIR/vocab.txt --bert_config_file=$BIOBERT_DIR/bert_config.json --init_checkpoint=$BIOBERT_DIR/model.ckpt-1000000 --num_train_epochs=2.0 --data_dir=$NER_DIR --output_dir=$OUTPUT_DIR"
   ]
  },
  {
   "cell_type": "code",
   "execution_count": 16,
   "id": "6bfa9be3",
   "metadata": {
    "execution": {
     "iopub.execute_input": "2022-08-30T09:09:05.896234Z",
     "iopub.status.busy": "2022-08-30T09:09:05.894866Z",
     "iopub.status.idle": "2022-08-30T09:09:07.344867Z",
     "shell.execute_reply": "2022-08-30T09:09:07.343255Z"
    },
    "papermill": {
     "duration": 1.490764,
     "end_time": "2022-08-30T09:09:07.348000",
     "exception": false,
     "start_time": "2022-08-30T09:09:05.857236",
     "status": "completed"
    },
    "tags": []
   },
   "outputs": [
    {
     "name": "stdout",
     "output_type": "stream",
     "text": [
      "python: can't open file './biobert_sample/biocodes/ner_detokenize.py': [Errno 2] No such file or directory\r\n"
     ]
    }
   ],
   "source": [
    "! python ./biobert_sample/biocodes/ner_detokenize.py --token_test_path=$OUTPUT_DIR/token_test.txt --label_test_path=$OUTPUT_DIR/label_test.txt --answer_path=$NER_DIR/test.tsv --output_dir=$OUTPUT_DIR"
   ]
  },
  {
   "cell_type": "code",
   "execution_count": 17,
   "id": "2c8f84fd",
   "metadata": {
    "execution": {
     "iopub.execute_input": "2022-08-30T09:09:07.426118Z",
     "iopub.status.busy": "2022-08-30T09:09:07.425637Z",
     "iopub.status.idle": "2022-08-30T09:09:08.748996Z",
     "shell.execute_reply": "2022-08-30T09:09:08.746512Z"
    },
    "papermill": {
     "duration": 1.374138,
     "end_time": "2022-08-30T09:09:08.757101",
     "exception": false,
     "start_time": "2022-08-30T09:09:07.382963",
     "status": "completed"
    },
    "tags": []
   },
   "outputs": [
    {
     "name": "stdout",
     "output_type": "stream",
     "text": [
      "/bin/bash: ./ner_outputs/NER_result_conll.txt: No such file or directory\r\n"
     ]
    }
   ],
   "source": [
    "! perl ./biobert_sample/biocodes/conlleval.pl < $OUTPUT_DIR/NER_result_conll.txt"
   ]
  }
 ],
 "metadata": {
  "kernelspec": {
   "display_name": "Python 3",
   "language": "python",
   "name": "python3"
  },
  "language_info": {
   "codemirror_mode": {
    "name": "ipython",
    "version": 3
   },
   "file_extension": ".py",
   "mimetype": "text/x-python",
   "name": "python",
   "nbconvert_exporter": "python",
   "pygments_lexer": "ipython3",
   "version": "3.7.12"
  },
  "papermill": {
   "default_parameters": {},
   "duration": 157.989494,
   "end_time": "2022-08-30T09:09:09.841471",
   "environment_variables": {},
   "exception": null,
   "input_path": "__notebook__.ipynb",
   "output_path": "__notebook__.ipynb",
   "parameters": {},
   "start_time": "2022-08-30T09:06:31.851977",
   "version": "2.3.4"
  }
 },
 "nbformat": 4,
 "nbformat_minor": 5
}
